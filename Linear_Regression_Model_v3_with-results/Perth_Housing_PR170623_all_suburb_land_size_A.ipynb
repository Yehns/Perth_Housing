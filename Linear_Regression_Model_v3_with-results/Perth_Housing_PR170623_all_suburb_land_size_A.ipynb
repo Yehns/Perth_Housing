{
 "cells": [
  {
   "cell_type": "code",
   "execution_count": 21,
   "metadata": {},
   "outputs": [],
   "source": [
    "import pandas as pd \n",
    "import numpy as np\n",
    "house_sales = \"../Resources/Perth_Housing_Prices5.csv\"\n",
    "sales_df = pd.read_csv(house_sales)\n",
    "sales_df.set_index('ADDRESS', inplace=True)\n",
    "\n",
    "from sklearn.preprocessing import StandardScaler\n",
    "from sklearn.model_selection import train_test_split\n",
    "from sklearn.linear_model import LinearRegression\n",
    "from sklearn.metrics import mean_squared_error, r2_score"
   ]
  },
  {
   "cell_type": "code",
   "execution_count": 22,
   "metadata": {},
   "outputs": [],
   "source": [
    "sales_df['GARAGE'] = sales_df['GARAGE'].fillna(0)"
   ]
  },
  {
   "cell_type": "code",
   "execution_count": 23,
   "metadata": {},
   "outputs": [
    {
     "data": {
      "text/plain": [
       "Bertram      231\n",
       "Iluka        212\n",
       "Mindarie     209\n",
       "Carramar     208\n",
       "Butler       207\n",
       "            ... \n",
       "Keysbrook      4\n",
       "Jandabup       3\n",
       "Wattleup       3\n",
       "O'Connor       2\n",
       "Neerabup       1\n",
       "Name: SUBURB, Length: 313, dtype: int64"
      ]
     },
     "execution_count": 23,
     "metadata": {},
     "output_type": "execute_result"
    }
   ],
   "source": [
    "sales_df['SUBURB'].value_counts()"
   ]
  },
  {
   "cell_type": "code",
   "execution_count": 24,
   "metadata": {},
   "outputs": [],
   "source": [
    "sales_slice_450 = sales_df[sales_df['LAND_AREA'] < 450]\n",
    "df_counts = sales_slice_450['SUBURB'].value_counts().rename_axis('SUBURB').reset_index(name='counts_450')\n",
    "df_counts.to_csv('value_counts_450.csv', sep=',')"
   ]
  },
  {
   "cell_type": "code",
   "execution_count": 25,
   "metadata": {},
   "outputs": [],
   "source": [
    "sales_slice_1000 = sales_df[(sales_df['LAND_AREA'] > 449) & (sales_df['LAND_AREA'] < 1000)]\n",
    "df_counts = sales_slice_1000['SUBURB'].value_counts().rename_axis('SUBURB').reset_index(name='counts_1000')\n",
    "df_counts.to_csv('value_counts_1000.csv', sep=',')"
   ]
  },
  {
   "cell_type": "code",
   "execution_count": 26,
   "metadata": {},
   "outputs": [],
   "source": [
    "sales_slice_plus = sales_df[sales_df['LAND_AREA'] > 999]\n",
    "df_counts = sales_slice_plus['SUBURB'].value_counts().rename_axis('SUBURB').reset_index(name='counts_plus')\n",
    "df_counts.to_csv('value_counts_plus.csv', sep=',')"
   ]
  }
 ],
 "metadata": {
  "kernelspec": {
   "display_name": "PythonData",
   "language": "python",
   "name": "python3"
  },
  "language_info": {
   "codemirror_mode": {
    "name": "ipython",
    "version": 3
   },
   "file_extension": ".py",
   "mimetype": "text/x-python",
   "name": "python",
   "nbconvert_exporter": "python",
   "pygments_lexer": "ipython3",
   "version": "3.7.7"
  },
  "orig_nbformat": 4
 },
 "nbformat": 4,
 "nbformat_minor": 2
}
